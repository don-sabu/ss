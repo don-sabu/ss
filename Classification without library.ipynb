{
 "cells": [
  {
   "cell_type": "code",
   "execution_count": 1,
   "id": "b33b1d8b",
   "metadata": {},
   "outputs": [],
   "source": [
    "import numpy as np\n",
    "import pandas as pd\n",
    "from scipy import stats\n",
    "from sklearn import datasets\n",
    "from sklearn.model_selection import train_test_split\n",
    "from sklearn.metrics import confusion_matrix,accuracy_score,recall_score,precision_score"
   ]
  },
  {
   "cell_type": "code",
   "execution_count": 2,
   "id": "082e03c2",
   "metadata": {},
   "outputs": [],
   "source": [
    "iris = datasets.load_iris()\n",
    "x = iris.data\n",
    "y = iris.target"
   ]
  },
  {
   "cell_type": "code",
   "execution_count": 3,
   "id": "d2e09029",
   "metadata": {},
   "outputs": [],
   "source": [
    "x_train, x_test, y_train, y_test = train_test_split(x, y, test_size=0.8, random_state=0)"
   ]
  },
  {
   "cell_type": "code",
   "execution_count": 4,
   "id": "68b4d1ee",
   "metadata": {},
   "outputs": [],
   "source": [
    "separated = [[x for x, t in zip(x_train, y_train) if t == c] for c in np.unique(y_train)]\n",
    "summaries = [(np.mean(i, axis=0), np.std(i, axis=0)) for i in separated]"
   ]
  },
  {
   "cell_type": "code",
   "execution_count": 5,
   "id": "15dbc8b3",
   "metadata": {},
   "outputs": [],
   "source": [
    "def predict(summaries, input_vector):\n",
    "    probabilities = []\n",
    "    for class_summaries in summaries:\n",
    "        class_mean, class_std = class_summaries\n",
    "        probability = np.prod(stats.norm(class_mean, class_std).pdf(input_vector))\n",
    "        probabilities.append(probability)\n",
    "    return np.argmax(probabilities)\n",
    "\n",
    "def naive_bayes_predict(summaries, x_test):\n",
    "    predictions = []\n",
    "    for row in x_test:\n",
    "        output = predict(summaries, row)\n",
    "        predictions.append(output)\n",
    "    return np.array(predictions)\n",
    "predictions = naive_bayes_predict(summaries, x_test)"
   ]
  },
  {
   "cell_type": "code",
   "execution_count": 7,
   "id": "a404f279",
   "metadata": {},
   "outputs": [
    {
     "name": "stdout",
     "output_type": "stream",
     "text": [
      "CONFUSION MATRIX : \n",
      " [[40  0  0]\n",
      " [ 0 39  0]\n",
      " [ 0  8 33]]\n",
      "ACCURACY :  93.33333333333333\n",
      "PRECISION :  94.32624113475177\n",
      "RECALL :  93.4959349593496\n"
     ]
    }
   ],
   "source": [
    "ac=accuracy_score(y_test,predictions)*100\n",
    "cm=confusion_matrix(y_test,predictions)\n",
    "p=precision_score(y_test,predictions,average='macro')*100\n",
    "r=recall_score(y_test,predictions,average='macro')*100\n",
    "print(\"CONFUSION MATRIX : \\n\",cm)\n",
    "print(\"ACCURACY : \",ac)\n",
    "print(\"PRECISION : \",p)\n",
    "print(\"RECALL : \",r )"
   ]
  },
  {
   "cell_type": "code",
   "execution_count": 8,
   "id": "3d94a08e",
   "metadata": {},
   "outputs": [
    {
     "name": "stdout",
     "output_type": "stream",
     "text": [
      "ENTER SEPAL LENGTH: 1\n",
      "ENTER SEPAL WIDTH: 2\n",
      "ENTER PETAL LENGTH: 3\n",
      "ENTER PETAL WIDTH: 1\n",
      "\n",
      "FLOWER IS VIRGINICA\n"
     ]
    }
   ],
   "source": [
    "al = []\n",
    "al.append(float(input(\"ENTER SEPAL LENGTH: \")))\n",
    "al.append(float(input(\"ENTER SEPAL WIDTH: \")))\n",
    "al.append(float(input(\"ENTER PETAL LENGTH: \")))\n",
    "al.append(float(input(\"ENTER PETAL WIDTH: \")))\n",
    "flower_class = predict(summaries, al)\n",
    "if flower_class == 0:\n",
    "    print(\"\\nFLOWER IS SETOSA\")\n",
    "elif flower_class == 1:\n",
    "    print(\"\\nFLOWER IS VERSICOLOR\")\n",
    "else:\n",
    "    print(\"\\nFLOWER IS VIRGINICA\")"
   ]
  },
  {
   "cell_type": "code",
   "execution_count": null,
   "id": "2c336bed",
   "metadata": {},
   "outputs": [],
   "source": []
  }
 ],
 "metadata": {
  "kernelspec": {
   "display_name": "Python 3 (ipykernel)",
   "language": "python",
   "name": "python3"
  },
  "language_info": {
   "codemirror_mode": {
    "name": "ipython",
    "version": 3
   },
   "file_extension": ".py",
   "mimetype": "text/x-python",
   "name": "python",
   "nbconvert_exporter": "python",
   "pygments_lexer": "ipython3",
   "version": "3.10.1"
  }
 },
 "nbformat": 4,
 "nbformat_minor": 5
}
