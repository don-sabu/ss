{
 "cells": [
  {
   "cell_type": "code",
   "execution_count": 1,
   "metadata": {},
   "outputs": [
    {
     "name": "stdout",
     "output_type": "stream",
     "text": [
      "Enter the first number: 5\n",
      "Enter the second number: 7\n",
      "Enter the third number: 9\n",
      "Largest number is:  9\n"
     ]
    }
   ],
   "source": [
    "a=int(input(\"Enter the first number: \"))\n",
    "b=int(input(\"Enter the second number: \"))\n",
    "c=int(input(\"Enter the third number: \"))\n",
    "if a>=b and a>=c:\n",
    "    maximum=a\n",
    "elif b>=a and b>=c:\n",
    "    maximum=b\n",
    "else:\n",
    "    maximum=c\n",
    "print(\"Largest number is: \",maximum)"
   ]
  },
  {
   "cell_type": "code",
   "execution_count": 2,
   "metadata": {},
   "outputs": [
    {
     "name": "stdout",
     "output_type": "stream",
     "text": [
      "Enter the number: 6\n",
      "Enter the number of terms: 5\n",
      "6 X 1 = 6\n",
      "6 X 2 = 12\n",
      "6 X 3 = 18\n",
      "6 X 4 = 24\n",
      "6 X 5 = 30\n"
     ]
    }
   ],
   "source": [
    "n=int(input(\"Enter the number: \"))\n",
    "t=int(input(\"Enter the number of terms: \"))\n",
    "for i in range(1,t+1):\n",
    "    print(n,\"X\",i,\"=\",i*n)"
   ]
  },
  {
   "cell_type": "code",
   "execution_count": 4,
   "metadata": {},
   "outputs": [
    {
     "name": "stdout",
     "output_type": "stream",
     "text": [
      "Enter the radius of the cylinder: 5\n",
      "Entr the height of the cylinder10\n",
      "Volume of the cylinder is  785.3981633974483\n",
      "Surface Area of the cylinder is  471.23889803846896\n"
     ]
    }
   ],
   "source": [
    "import math\n",
    "r=int(input(\"Enter the radius of the cylinder: \"))\n",
    "h=int(input(\"Entr the height of the cylinder\"))\n",
    "print(\"Volume of the cylinder is \",math.pi*r**2*h)\n",
    "print(\"Surface Area of the cylinder is \",2*math.pi*r*(r+h))"
   ]
  },
  {
   "cell_type": "code",
   "execution_count": null,
   "metadata": {},
   "outputs": [],
   "source": []
  }
 ],
 "metadata": {
  "kernelspec": {
   "display_name": "Python 3",
   "language": "python",
   "name": "python3"
  },
  "language_info": {
   "codemirror_mode": {
    "name": "ipython",
    "version": 3
   },
   "file_extension": ".py",
   "mimetype": "text/x-python",
   "name": "python",
   "nbconvert_exporter": "python",
   "pygments_lexer": "ipython3",
   "version": "3.7.3"
  }
 },
 "nbformat": 4,
 "nbformat_minor": 2
}
